{
 "cells": [
  {
   "cell_type": "code",
   "execution_count": null,
   "metadata": {},
   "outputs": [
    {
     "name": "stdout",
     "output_type": "stream",
     "text": [
      "Cells will be exported to nbdev.conda,\n",
      "unless a different module is specified after an export flag: `%nbdev_export special.module`\n"
     ]
    }
   ],
   "source": [
    "#hide\n",
    "from nbdev import *\n",
    "%nbdev_default_export conda"
   ]
  },
  {
   "cell_type": "markdown",
   "metadata": {},
   "source": [
    "# Create conda packages\n",
    "\n",
    "> Pure python packages created from settings.ini"
   ]
  },
  {
   "cell_type": "code",
   "execution_count": null,
   "metadata": {},
   "outputs": [],
   "source": [
    "%nbdev_export\n",
    "from nbdev.imports import *\n",
    "from nbdev.export import *\n",
    "\n",
    "import urllib.request,json,yaml\n",
    "from copy import deepcopy\n",
    "try: from packaging.version import parse\n",
    "except ImportError: from pip._vendor.packaging.version import parse\n",
    "\n",
    "_PYPI_URL = 'https://pypi.org/pypi/'"
   ]
  },
  {
   "cell_type": "code",
   "execution_count": null,
   "metadata": {},
   "outputs": [],
   "source": [
    "#export\n",
    "def pypi_json(s):\n",
    "    \"Dictionary decoded JSON for PYPI path `s`\"\n",
    "    url = f'{_PYPI_URL}{s}/json'\n",
    "    return json.loads(urllib.request.urlopen(url).read())"
   ]
  },
  {
   "cell_type": "code",
   "execution_count": null,
   "metadata": {},
   "outputs": [],
   "source": [
    "#export\n",
    "def latest_pypi(name):\n",
    "    \"Latest version of `name` on pypi\"\n",
    "    return max(parse(r) for r,o in pypi_json(name)['releases'].items()\n",
    "               if not parse(r).is_prerelease and not o[0]['yanked'])"
   ]
  },
  {
   "cell_type": "code",
   "execution_count": null,
   "metadata": {},
   "outputs": [],
   "source": [
    "%nbdev_export\n",
    "def _pip_conda_meta(name):\n",
    "    ver = str(latest_pypi('sentencepiece'))\n",
    "    pypi = pypi_json(f'{name}/{ver}')\n",
    "    info = pypi['info']\n",
    "    rel = [o for o in pypi['urls'] if o['packagetype']=='sdist'][0]\n",
    "    reqs = ['pip', 'python', 'packaging']\n",
    "\n",
    "    # Work around conda build bug - 'package' and 'source' must be first\n",
    "    d1 = {\n",
    "        'package': {'name': name, 'version': ver},\n",
    "        'source': {'url':rel['url'], 'sha256':rel['digests']['sha256']}\n",
    "    }\n",
    "    d2 = {\n",
    "        'build': {'number': '0', 'noarch': 'python',\n",
    "                  'script': '{{ PYTHON }} -m pip install . -vv'},\n",
    "        'test': {'imports': [name]},\n",
    "        'requirements': {'host':reqs, 'run':reqs},\n",
    "        'about': {'license': info['license'], 'home': info['project_url'], 'summary': info['summary']}\n",
    "    }\n",
    "    return d1,d2"
   ]
  },
  {
   "cell_type": "code",
   "execution_count": null,
   "metadata": {},
   "outputs": [],
   "source": [
    "%nbdev_export\n",
    "def _write_yaml(path, name, d1, d2):\n",
    "    path = Path(path)\n",
    "    p = path/name\n",
    "    p.mkdir(exist_ok=True, parents=True)\n",
    "    yaml.SafeDumper.ignore_aliases = lambda *args : True\n",
    "    with (p/'meta.yaml').open('w') as f:\n",
    "        yaml.safe_dump(d1, f)\n",
    "        yaml.safe_dump(d2, f)"
   ]
  },
  {
   "cell_type": "code",
   "execution_count": null,
   "metadata": {},
   "outputs": [],
   "source": [
    "%nbdev_export\n",
    "def write_pip_conda_meta(name, path='conda'):\n",
    "    \"Writes a `meta.yaml` file for `name` to the `conda` directory of the current directory\"\n",
    "    _write_yaml(path, name, *_pip_conda_meta(name))"
   ]
  },
  {
   "cell_type": "code",
   "execution_count": null,
   "metadata": {},
   "outputs": [],
   "source": [
    "%nbdev_export\n",
    "def _get_conda_meta():\n",
    "    cfg = Config()\n",
    "    name,ver = cfg.get('lib_name'),cfg.get('version')\n",
    "    url = cfg.get('doc_host') or cfg.get('git_url')\n",
    "\n",
    "    reqs = ['pip', 'python', 'packaging']\n",
    "    if cfg.get('requirements'): reqs += cfg.get('requirements').split()\n",
    "    if cfg.get('conda_requirements'): reqs += cfg.get('conda_requirements').split()\n",
    "\n",
    "    pypi = pypi_json(f'{name}/{ver}')\n",
    "    rel = [o for o in pypi['urls'] if o['packagetype']=='sdist'][0]\n",
    "\n",
    "    # Work around conda build bug - 'package' and 'source' must be first\n",
    "    d1 = {\n",
    "        'package': {'name': name, 'version': ver},\n",
    "        'source': {'url':rel['url'], 'sha256':rel['digests']['sha256']}\n",
    "    }\n",
    "\n",
    "    d2 = {\n",
    "        'build': {'number': '0', 'noarch': 'python',\n",
    "                  'script': '{{ PYTHON }} -m pip install . -vv'},\n",
    "        'requirements': {'host':reqs, 'run':reqs},\n",
    "        'test': {'imports': ['numpy', name]},\n",
    "        'about': {\n",
    "            'license': 'Apache Software',\n",
    "            'license_family': 'APACHE',\n",
    "            'home': url, 'doc_url': url, 'dev_url': url,\n",
    "            'summary': cfg.get('description')\n",
    "        },\n",
    "        'extra': {'recipe-maintainers': [cfg.get('user')]}\n",
    "    }\n",
    "    return name,d1,d2"
   ]
  },
  {
   "cell_type": "code",
   "execution_count": null,
   "metadata": {},
   "outputs": [],
   "source": [
    "%nbdev_export\n",
    "def write_conda_meta(path='conda'):\n",
    "    \"Writes a `meta.yaml` file to the `conda` directory of the current directory\"\n",
    "    _write_yaml(path, *_get_conda_meta())"
   ]
  },
  {
   "cell_type": "markdown",
   "metadata": {},
   "source": [
    "This function is used in the `nbdev_conda_package` CLI command.\n",
    "\n",
    "**NB**: you need to first of all upload your package to PyPi, before creating the conda package. Use `make pypi` to do this manually with nbdev, or `make release` to make both pip and conda packages, and update your version number."
   ]
  },
  {
   "cell_type": "markdown",
   "metadata": {},
   "source": [
    "## Export-"
   ]
  },
  {
   "cell_type": "code",
   "execution_count": null,
   "metadata": {},
   "outputs": [
    {
     "name": "stdout",
     "output_type": "stream",
     "text": [
      "Converted 00_export.ipynb.\n",
      "Converted 01_sync.ipynb.\n",
      "Converted 02_showdoc.ipynb.\n",
      "Converted 03_export2html.ipynb.\n",
      "Converted 04_test.ipynb.\n",
      "Converted 05_merge.ipynb.\n",
      "Converted 05a_conda.ipynb.\n",
      "Converted 06_cli.ipynb.\n",
      "Converted 07_clean.ipynb.\n",
      "Converted 08_flag_tests.ipynb.\n",
      "Converted 09_nbdev_callback_test.ipynb.\n",
      "Converted 99_search.ipynb.\n",
      "Converted index.ipynb.\n",
      "Converted tutorial.ipynb.\n"
     ]
    }
   ],
   "source": [
    "%nbdev_hide\n",
    "notebook2script()"
   ]
  },
  {
   "cell_type": "code",
   "execution_count": null,
   "metadata": {},
   "outputs": [],
   "source": []
  }
 ],
 "metadata": {
  "kernelspec": {
   "display_name": "Python 3",
   "language": "python",
   "name": "python3"
  }
 },
 "nbformat": 4,
 "nbformat_minor": 4
}
