{
 "cells": [
  {
   "cell_type": "code",
   "execution_count": null,
   "metadata": {
    "hide_input": false
   },
   "outputs": [],
   "source": [
    "#hide\n",
    "#default_exp cli\n",
    "from nbdev.showdoc import show_doc"
   ]
  },
  {
   "cell_type": "markdown",
   "metadata": {},
   "source": [
    "# Command line functions\n",
    "\n",
    "> Console commands added by the nbdev library"
   ]
  },
  {
   "cell_type": "code",
   "execution_count": null,
   "metadata": {},
   "outputs": [],
   "source": [
    "#export\n",
    "from nbdev.imports import *\n",
    "from nbdev.export import *\n",
    "from nbdev.sync import *\n",
    "from nbdev.merge import *\n",
    "from nbdev.export2html import *\n",
    "from nbdev.clean import *\n",
    "from nbdev.test import *\n",
    "from fastcore.script import *\n",
    "from subprocess import check_output,STDOUT"
   ]
  },
  {
   "cell_type": "markdown",
   "metadata": {},
   "source": [
    "`nbdev` comes with the following commands. To use any of them, you must be in one of the subfolders of your project: they will search for the `settings.ini` recursively in the parent directory but need to access it to be able to work. Their names all begin with nbdev so you can easily get a list with tab completion.\n",
    "- `nbdev_build_docs` builds the documentation from the notebooks\n",
    "- `nbdev_build_lib` builds the library from the notebooks\n",
    "- `nbdev_bump_version` increments version in `settings.py` by one\n",
    "- `nbdev_clean_nbs` removes all superfluous metadata form the notebooks, to avoid merge conflicts\n",
    "- `nbdev_detach` exports cell attachments to `dest` and updates references\n",
    "- `nbdev_diff_nbs` gives you the diff between the notebooks and the exported library\n",
    "- `nbdev_fix_merge` will fix merge conflicts in a notebook file\n",
    "- `nbdev_install_git_hooks` installs the git hooks that use the last two command automatically on each commit/merge\n",
    "- `nbdev_nb2md` converts a notebook to a markdown file\n",
    "- `nbdev_new` creates a new nbdev project\n",
    "- `nbdev_read_nbs` reads all notebooks to make sure none are broken\n",
    "- `nbdev_test_nbs` runs tests in notebooks\n",
    "- `nbdev_trust_nbs` trusts all notebooks (so that the HTML content is shown)\n",
    "- `nbdev_update_lib` propagates any change in the library back to the notebooks"
   ]
  },
  {
   "cell_type": "markdown",
   "metadata": {},
   "source": [
    "## Navigating from notebooks to script and back"
   ]
  },
  {
   "cell_type": "code",
   "execution_count": null,
   "metadata": {},
   "outputs": [
    {
     "data": {
      "text/markdown": [
       "<h4 id=\"nbdev_build_lib\" class=\"doc_header\"><code>nbdev_build_lib</code><a href=\"https://github.com/fastai/nbdev/tree/master/nbdev/export2html.py#L474\" class=\"source_link\" style=\"float:right\">[source]</a></h4>\n",
       "\n",
       "> <code>nbdev_build_lib</code>(**`fname`**:\"A notebook name or glob to convert\"=*`None`*)\n",
       "\n",
       "Export notebooks matching `fname` to python modules"
      ],
      "text/plain": [
       "<IPython.core.display.Markdown object>"
      ]
     },
     "metadata": {},
     "output_type": "display_data"
    }
   ],
   "source": [
    "show_doc(nbdev_build_lib)"
   ]
  },
  {
   "cell_type": "markdown",
   "metadata": {},
   "source": [
    "By default (`fname` left to `None`), the whole library is built from the notebooks in the `lib_folder` set in your `settings.ini`."
   ]
  },
  {
   "cell_type": "code",
   "execution_count": null,
   "metadata": {},
   "outputs": [
    {
     "data": {
      "text/markdown": [
       "<h4 id=\"nbdev_update_lib\" class=\"doc_header\"><code>nbdev_update_lib</code><a href=\"https://github.com/fastai/nbdev/tree/master/nbdev/sync.py#L121\" class=\"source_link\" style=\"float:right\">[source]</a></h4>\n",
       "\n",
       "> <code>nbdev_update_lib</code>(**`fname`**:\"A notebook name or glob to convert\"=*`None`*, **`silent`**:\"Don't print results\"=*`False`*)\n",
       "\n",
       "Propagates any change in the modules matching `fname` to the notebooks that created them"
      ],
      "text/plain": [
       "<IPython.core.display.Markdown object>"
      ]
     },
     "metadata": {},
     "output_type": "display_data"
    }
   ],
   "source": [
    "show_doc(nbdev_update_lib)"
   ]
  },
  {
   "cell_type": "markdown",
   "metadata": {},
   "source": [
    "By default (`fname` left to `None`), the whole library is treated. Note that this tool is only designed for small changes such as typo or small bug fixes. You can't add new cells in notebook from the library."
   ]
  },
  {
   "cell_type": "code",
   "execution_count": null,
   "metadata": {},
   "outputs": [
    {
     "data": {
      "text/markdown": [
       "<h4 id=\"nbdev_diff_nbs\" class=\"doc_header\"><code>nbdev_diff_nbs</code><a href=\"https://github.com/fastai/nbdev/tree/master/nbdev/sync.py#L139\" class=\"source_link\" style=\"float:right\">[source]</a></h4>\n",
       "\n",
       "> <code>nbdev_diff_nbs</code>()\n",
       "\n",
       "Prints the diff between an export of the library in notebooks and the actual modules"
      ],
      "text/plain": [
       "<IPython.core.display.Markdown object>"
      ]
     },
     "metadata": {},
     "output_type": "display_data"
    }
   ],
   "source": [
    "show_doc(nbdev_diff_nbs)"
   ]
  },
  {
   "cell_type": "markdown",
   "metadata": {},
   "source": [
    "## Running tests"
   ]
  },
  {
   "cell_type": "code",
   "execution_count": null,
   "metadata": {},
   "outputs": [
    {
     "data": {
      "text/markdown": [
       "<h4 id=\"nbdev_test_nbs\" class=\"doc_header\"><code>nbdev_test_nbs</code><a href=\"https://github.com/fastai/nbdev/tree/master/nbdev/test.py#L100\" class=\"source_link\" style=\"float:right\">[source]</a></h4>\n",
       "\n",
       "> <code>nbdev_test_nbs</code>(**`fname`**:\"A notebook name or glob to convert\"=*`None`*, **`flags`**:\"Space separated list of flags\"=*`None`*, **`n_workers`**:\"Number of workers to use\"=*`None`*, **`verbose`**:\"Print errors along the way\"=*`True`*, **`timing`**:\"Timing each notebook to see the ones are slow\"=*`False`*, **`pause`**:\"Pause time (in secs) between notebooks to avoid race conditions\"=*`0.5`*)\n",
       "\n",
       "Test in parallel the notebooks matching `fname`, passing along `flags`"
      ],
      "text/plain": [
       "<IPython.core.display.Markdown object>"
      ]
     },
     "metadata": {},
     "output_type": "display_data"
    }
   ],
   "source": [
    "show_doc(nbdev_test_nbs)"
   ]
  },
  {
   "cell_type": "markdown",
   "metadata": {},
   "source": [
    "By default (`fname` left to `None`), the whole library is tested from the notebooks in the `lib_folder` set in your `settings.ini`."
   ]
  },
  {
   "cell_type": "markdown",
   "metadata": {},
   "source": [
    "## Building documentation"
   ]
  },
  {
   "cell_type": "code",
   "execution_count": null,
   "metadata": {},
   "outputs": [
    {
     "data": {
      "text/markdown": [
       "<h4 id=\"nbdev_build_docs\" class=\"doc_header\"><code>nbdev_build_docs</code><a href=\"https://github.com/fastai/nbdev/tree/master/nbdev/export2html.py#L652\" class=\"source_link\" style=\"float:right\">[source]</a></h4>\n",
       "\n",
       "> <code>nbdev_build_docs</code>(**`fname`**:\"A notebook name or glob to convert\"=*`None`*, **`force_all`**:\"Rebuild even notebooks that haven't changed\"=*`False`*, **`mk_readme`**:\"Also convert the index notebook to README\"=*`True`*, **`n_workers`**:\"Number of workers to use\"=*`None`*, **`pause`**:\"Pause time (in secs) between notebooks to avoid race conditions\"=*`0.5`*)\n",
       "\n",
       "Build the documentation by converting notebooks mathing `fname` to html"
      ],
      "text/plain": [
       "<IPython.core.display.Markdown object>"
      ]
     },
     "metadata": {},
     "output_type": "display_data"
    }
   ],
   "source": [
    "show_doc(nbdev_build_docs)"
   ]
  },
  {
   "cell_type": "markdown",
   "metadata": {},
   "source": [
    "By default (`fname` left to `None`), the whole documentation is build from the notebooks in the `lib_folder` set in your `settings.ini`, only converting the ones that have been modified since the their corresponding html was last touched unless you pass `force_all=True`. The index is also converted to make the README file, unless you pass along `mk_readme=False`."
   ]
  },
  {
   "cell_type": "code",
   "execution_count": null,
   "metadata": {},
   "outputs": [
    {
     "data": {
      "text/markdown": [
       "<h4 id=\"nbdev_nb2md\" class=\"doc_header\"><code>nbdev_nb2md</code><a href=\"https://github.com/fastai/nbdev/tree/master/nbdev/export2html.py#L664\" class=\"source_link\" style=\"float:right\">[source]</a></h4>\n",
       "\n",
       "> <code>nbdev_nb2md</code>(**`fname`**:\"A notebook file name to convert\", **`dest`**:\"The destination folder\"=*`'.'`*, **`img_path`**:\"Folder to export images to\"=*`''`*, **`jekyll`**:\"To use jekyll metadata for your markdown file or not\"=*`False`*)\n",
       "\n",
       "Convert the notebook in `fname` to a markdown file"
      ],
      "text/plain": [
       "<IPython.core.display.Markdown object>"
      ]
     },
     "metadata": {},
     "output_type": "display_data"
    }
   ],
   "source": [
    "show_doc(nbdev_nb2md)"
   ]
  },
  {
   "cell_type": "code",
   "execution_count": null,
   "metadata": {},
   "outputs": [
    {
     "data": {
      "text/markdown": [
       "<h4 id=\"nbdev_detach\" class=\"doc_header\"><code>nbdev_detach</code><a href=\"https://github.com/fastai/nbdev/tree/master/nbdev/export2html.py#L616\" class=\"source_link\" style=\"float:right\">[source]</a></h4>\n",
       "\n",
       "> <code>nbdev_detach</code>(**`path_nb`**:\"Path to notebook\", **`dest`**:\"Destination folder\"=*`''`*, **`use_img`**:\"Convert markdown images to img tags\"=*`False`*, **`replace`**:\"Write replacement notebook back to `path_bn`\"=*`True`*)\n",
       "\n",
       "Export cell attachments to `dest` and update references"
      ],
      "text/plain": [
       "<IPython.core.display.Markdown object>"
      ]
     },
     "metadata": {},
     "output_type": "display_data"
    }
   ],
   "source": [
    "show_doc(nbdev_detach)"
   ]
  },
  {
   "cell_type": "markdown",
   "metadata": {},
   "source": [
    "## Other utils"
   ]
  },
  {
   "cell_type": "code",
   "execution_count": null,
   "metadata": {},
   "outputs": [
    {
     "data": {
      "text/markdown": [
       "<h4 id=\"nbdev_read_nbs\" class=\"doc_header\"><code>nbdev_read_nbs</code><a href=\"https://github.com/fastai/nbdev/tree/master/nbdev/test.py#L127\" class=\"source_link\" style=\"float:right\">[source]</a></h4>\n",
       "\n",
       "> <code>nbdev_read_nbs</code>(**`fname`**:\"A notebook name or glob to convert\"=*`None`*)\n",
       "\n",
       "Check all notebooks matching `fname` can be opened"
      ],
      "text/plain": [
       "<IPython.core.display.Markdown object>"
      ]
     },
     "metadata": {},
     "output_type": "display_data"
    }
   ],
   "source": [
    "show_doc(nbdev_read_nbs)"
   ]
  },
  {
   "cell_type": "markdown",
   "metadata": {},
   "source": [
    "By default (`fname` left to `None`), the all the notebooks in `lib_folder` are checked."
   ]
  },
  {
   "cell_type": "code",
   "execution_count": null,
   "metadata": {},
   "outputs": [
    {
     "data": {
      "text/markdown": [
       "<h4 id=\"nbdev_trust_nbs\" class=\"doc_header\"><code>nbdev_trust_nbs</code><a href=\"https://github.com/fastai/nbdev/tree/master/nbdev/sync.py#L155\" class=\"source_link\" style=\"float:right\">[source]</a></h4>\n",
       "\n",
       "> <code>nbdev_trust_nbs</code>(**`fname`**:\"A notebook name or glob to convert\"=*`None`*, **`force_all`**:\"Trust even notebooks that haven't changed\"=*`False`*)\n",
       "\n",
       "Trust noteboks matching `fname`"
      ],
      "text/plain": [
       "<IPython.core.display.Markdown object>"
      ]
     },
     "metadata": {},
     "output_type": "display_data"
    }
   ],
   "source": [
    "show_doc(nbdev_trust_nbs)"
   ]
  },
  {
   "cell_type": "markdown",
   "metadata": {},
   "source": [
    "By default (`fname` left to `None`), the all the notebooks in `lib_folder` are trusted. To speed things up, only the ones touched since the last time this command was run are trusted unless you pass along `force_all=True`."
   ]
  },
  {
   "cell_type": "code",
   "execution_count": null,
   "metadata": {},
   "outputs": [
    {
     "data": {
      "text/markdown": [
       "<h4 id=\"nbdev_fix_merge\" class=\"doc_header\"><code>nbdev_fix_merge</code><a href=\"https://github.com/fastai/nbdev/tree/master/nbdev/merge.py#L92\" class=\"source_link\" style=\"float:right\">[source]</a></h4>\n",
       "\n",
       "> <code>nbdev_fix_merge</code>(**`fname`**:\"A notebook filename to fix\", **`fast`**:\"Fast fix: automatically fix the merge conflicts in outputs or metadata\"=*`True`*, **`trust_us`**:\"Use local outputs/metadata when fast mergning\"=*`True`*)\n",
       "\n",
       "Fix merge conflicts in notebook `fname`"
      ],
      "text/plain": [
       "<IPython.core.display.Markdown object>"
      ]
     },
     "metadata": {},
     "output_type": "display_data"
    }
   ],
   "source": [
    "show_doc(nbdev_fix_merge)"
   ]
  },
  {
   "cell_type": "markdown",
   "metadata": {},
   "source": [
    "When you have merge conflicts after a `git pull`, the notebook file will be broken and won't open in jupyter notebook anymore. This command fixes this by changing the notebook to a proper json file again and add markdown cells to signal the conflict, you just have to open that notebook again and look for `>>>>>>>` to see those conflicts and manually fix them. The old broken file is copied with a `.ipynb.bak` extension, so is still accessible in case the merge wasn't sucessful.\n",
    "\n",
    "Moreover, if `fast=True`, conflicts in outputs and metadata will automatically be fixed by using the local version if `trust_us=True`, the remote one if `trust_us=False`. With this option, it's very likely you won't have anything to do, unless there is a real conflict."
   ]
  },
  {
   "cell_type": "code",
   "execution_count": null,
   "metadata": {},
   "outputs": [],
   "source": [
    "#export\n",
    "def bump_version(version, part=2):\n",
    "    version = version.split('.')\n",
    "    version[part] = str(int(version[part]) + 1)\n",
    "    for i in range(part+1, 3): version[i] = '0'\n",
    "    return '.'.join(version)"
   ]
  },
  {
   "cell_type": "code",
   "execution_count": null,
   "metadata": {},
   "outputs": [],
   "source": [
    "test_eq(bump_version('0.1.1'   ), '0.1.2')\n",
    "test_eq(bump_version('0.1.1', 1), '0.2.0')"
   ]
  },
  {
   "cell_type": "code",
   "execution_count": null,
   "metadata": {},
   "outputs": [],
   "source": [
    "#export\n",
    "@call_parse\n",
    "def nbdev_bump_version(part:Param(\"Part of version to bump\", int)=2):\n",
    "    \"Increment version in `settings.py` by one\"\n",
    "    cfg = Config()\n",
    "    print(f'Old version: {cfg.version}')\n",
    "    cfg.d['version'] = bump_version(Config().version, part)\n",
    "    cfg.save()\n",
    "    update_version()\n",
    "    print(f'New version: {cfg.version}')"
   ]
  },
  {
   "cell_type": "markdown",
   "metadata": {},
   "source": [
    "## Git hooks"
   ]
  },
  {
   "cell_type": "code",
   "execution_count": null,
   "metadata": {},
   "outputs": [],
   "source": [
    "#export\n",
    "import subprocess"
   ]
  },
  {
   "cell_type": "code",
   "execution_count": null,
   "metadata": {},
   "outputs": [],
   "source": [
    "#export\n",
    "@call_parse\n",
    "def nbdev_install_git_hooks():\n",
    "    \"Install git hooks to clean/trust notebooks automatically\"\n",
    "    try: path = Config().config_file.parent\n",
    "    except: path = Path.cwd()\n",
    "    hook_path = path/'.git'/'hooks'\n",
    "    fn = hook_path/'post-merge'\n",
    "    hook_path.mkdir(parents=True, exist_ok=True)\n",
    "    #Trust notebooks after merge\n",
    "    with open(fn, 'w') as f:\n",
    "        f.write(\"\"\"#!/bin/bash\n",
    "echo \"Trusting notebooks\"\n",
    "nbdev_trust_nbs\n",
    "\"\"\"\n",
    "        )\n",
    "    os.chmod(fn, os.stat(fn).st_mode | stat.S_IEXEC)\n",
    "    #Clean notebooks on commit/diff\n",
    "    with open(path/'.gitconfig', 'w') as f:\n",
    "        f.write(\"\"\"# Generated by nbdev_install_git_hooks\n",
    "#\n",
    "# If you need to disable this instrumentation do:\n",
    "#\n",
    "# git config --local --unset include.path\n",
    "#\n",
    "# To restore the filter\n",
    "#\n",
    "# git config --local include.path .gitconfig\n",
    "#\n",
    "# If you see notebooks not stripped, checked the filters are applied in .gitattributes\n",
    "#\n",
    "[filter \"clean-nbs\"]\n",
    "        clean = nbdev_clean_nbs --read_input_stream True\n",
    "        smudge = cat\n",
    "        required = true\n",
    "[diff \"ipynb\"]\n",
    "        textconv = nbdev_clean_nbs --disp True --fname\n",
    "\"\"\")\n",
    "    cmd = \"git config --local include.path ../.gitconfig\"\n",
    "    print(f\"Executing: {cmd}\")\n",
    "    result = subprocess.run(cmd.split(), shell=False, check=False, stderr=subprocess.PIPE)\n",
    "    if result.returncode == 0:\n",
    "        print(\"Success: hooks are installed and repo's .gitconfig is now trusted\")\n",
    "    else:\n",
    "        print(\"Failed to trust repo's .gitconfig\")\n",
    "        if result.stderr: print(f\"Error: {result.stderr.decode('utf-8')}\")\n",
    "    try: nb_path = Config().path(\"nbs_path\")\n",
    "    except: nb_path = Path.cwd()\n",
    "    with open(nb_path/'.gitattributes', 'w') as f:\n",
    "        f.write(\"\"\"**/*.ipynb filter=clean-nbs\n",
    "**/*.ipynb diff=ipynb\n",
    "\"\"\"\n",
    "               )"
   ]
  },
  {
   "cell_type": "markdown",
   "metadata": {},
   "source": [
    "This command installs git hooks to make sure notebooks are cleaned before you commit them to GitHub and automatically trusted at each merge. To be more specific, this creates:\n",
    "- an executable '.git/hooks/post-merge' file that contains the command `nbdev_trust_nbs`\n",
    "- a `.gitconfig` file that uses `nbev_clean_nbs` has a filter/diff on all notebook files inside `nbs_folder` and a `.gitattributes` file generated in this folder (copy this file in other folders where you might have notebooks you want cleaned as well)"
   ]
  },
  {
   "cell_type": "markdown",
   "metadata": {},
   "source": [
    "## Starting a new project"
   ]
  },
  {
   "cell_type": "code",
   "execution_count": null,
   "metadata": {},
   "outputs": [],
   "source": [
    "#export\n",
    "_template_git_repo = \"https://github.com/fastai/nbdev_template.git\""
   ]
  },
  {
   "cell_type": "code",
   "execution_count": null,
   "metadata": {},
   "outputs": [],
   "source": [
    "#export\n",
    "@call_parse\n",
    "def nbdev_new(name: Param(\"A directory to create the project in\", str),\n",
    "              template_git_repo: Param(\"url to template repo\", str)=_template_git_repo):\n",
    "    \"Create a new nbdev project with a given name.\"\n",
    "\n",
    "    path = Path(f\"./{name}\").absolute()\n",
    "\n",
    "    if path.is_dir():\n",
    "        print(f\"Directory {path} already exists. Aborting.\")\n",
    "        return\n",
    "\n",
    "    print(f\"Creating a new nbdev project {name}.\")\n",
    "\n",
    "    def rmtree_onerror(func, path, exc_info):\n",
    "        \"Use with `shutil.rmtree` when you need to delete files/folders that might be read-only.\"\n",
    "        os.chmod(path, stat.S_IWRITE)\n",
    "        func(path)\n",
    "\n",
    "    try:\n",
    "        subprocess.run(['git', 'clone', f'{template_git_repo}', f'{path}'], check=True, timeout=5000)\n",
    "        # Note: on windows, .git is created with a read-only flag\n",
    "        shutil.rmtree(path/\".git\", onerror=rmtree_onerror)\n",
    "        subprocess.run(\"git init\".split(), cwd=path, check=True)\n",
    "        subprocess.run(\"git add .\".split(), cwd=path, check=True)\n",
    "        subprocess.run(\"git commit -am \\\"Initial\\\"\".split(), cwd=path, check=True)\n",
    "\n",
    "        print(f\"Created a new repo for project {name}. Please edit settings.ini and run nbdev_build_lib to get started.\")\n",
    "    except Exception as e:\n",
    "        print(\"An error occured while copying nbdev project template:\")\n",
    "        print(e)\n",
    "        if os.path.isdir(path):\n",
    "            try:\n",
    "                shutil.rmtree(path, onerror=rmtree_onerror)\n",
    "            except Exception as e2:\n",
    "                print(f\"An error occured while cleaning up. Failed to delete {path}:\")\n",
    "                print(e2)"
   ]
  },
  {
   "cell_type": "markdown",
   "metadata": {},
   "source": [
    "`nbdev_new` is a command line tool that creates a new nbdev project based on the [nbdev_template repo](https://github.com/fastai/nbdev_template). You can use a custom template by passing in `template_git_repo`. It'll initialize a new git repository and commit the new project.\n",
    "\n",
    "After you run `nbdev_new`, please edit `settings.ini` and run `nbdev_build_lib`."
   ]
  },
  {
   "cell_type": "markdown",
   "metadata": {},
   "source": [
    "## Export -"
   ]
  },
  {
   "cell_type": "code",
   "execution_count": null,
   "metadata": {},
   "outputs": [
    {
     "name": "stdout",
     "output_type": "stream",
     "text": [
      "Converted 00_export.ipynb.\n",
      "Converted 01_sync.ipynb.\n",
      "Converted 02_showdoc.ipynb.\n",
      "Converted 03_export2html.ipynb.\n",
      "Converted 04_test.ipynb.\n",
      "Converted 05_merge.ipynb.\n",
      "Converted 06_cli.ipynb.\n",
      "Converted 07_clean.ipynb.\n",
      "Converted 99_search.ipynb.\n",
      "Converted index.ipynb.\n",
      "Converted tutorial.ipynb.\n"
     ]
    }
   ],
   "source": [
    "#hide\n",
    "from nbdev.export import notebook2script\n",
    "notebook2script()"
   ]
  },
  {
   "cell_type": "code",
   "execution_count": null,
   "metadata": {},
   "outputs": [],
   "source": []
  }
 ],
 "metadata": {
  "jupytext": {
   "split_at_heading": true
  },
  "kernelspec": {
   "display_name": "Python 3",
   "language": "python",
   "name": "python3"
  }
 },
 "nbformat": 4,
 "nbformat_minor": 4
}
