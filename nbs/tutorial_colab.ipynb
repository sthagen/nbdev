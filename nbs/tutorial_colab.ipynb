{
 "cells": [
  {
   "cell_type": "code",
   "execution_count": null,
   "metadata": {},
   "outputs": [],
   "source": [
    "#all_slow\n",
    "#colab"
   ]
  },
  {
   "cell_type": "markdown",
   "metadata": {},
   "source": [
    "## Introduction\n",
    "\n",
    "In this tutorial we are going to complete an entire `nbdev`-based project from start to finish utilizing only [Google Colaboratory](colab.research.google.com), a free* alternative Jupyter environment with GPU capabilities. The goal is to set your project up in such a way that building, generating notebooks, testing, and setup is as seamless as possible inside their platform. \n",
    "\n",
    "This tutorial is also available as a video, which you can watch below:\n",
    "\n",
    "\n",
    "blah"
   ]
  },
  {
   "cell_type": "markdown",
   "metadata": {},
   "source": [
    "## Why Use Google Colaboratory?\n",
    "\n",
    "Google Colaboratory offers a few unique advantages over other platforms in regards to the capabilities you can utilize:\n",
    "\n",
    "1. You can have synchronous programming within the same notebook\n",
    "\n",
    "    When working in a team or in a pair-programming situation, you both can have the exact same Jupyter notebook open and synchronously write comments or code within it when your project is based out of your Google Drive. Other platforms have only recently been testing this capability\n",
    "\n",
    "2. Smaller projects that don't require git can still be utilized\n",
    "\n",
    "    There are certainly situations where perhaps you (or the company you work for) don't see the benefit yet in storing your code away in a repository. Simply keeping it in your Google Drive offers you this flexibility, while losing almost none of the benefits of GitHub. \n",
    "\n",
    "3. It's free*\n",
    "\n",
    "    Whether you're a student or someone who worries about your GPU credits, Google Colaboratory has a free option for you to utilize both Jupyter and GPU's without requiring a credit card to get started. Recently Google has released a [Colab Pro](https://colab.research.google.com/signup) option for $10/month (only for the US and Canada right now), which allows for better access to GPU's and an in-house terminal, but neither of these are truly needed to get you utilizing Colab for `nbdev` and your software engineering projects!"
   ]
  },
  {
   "cell_type": "markdown",
   "metadata": {},
   "source": [
    "## Using the Template Repository"
   ]
  },
  {
   "cell_type": "markdown",
   "metadata": {},
   "source": [
    "Now let's build a library!\n",
    "\n",
    "The first step in beginning your new nbdev project should be to use the [nbdev_template](https://github.com/fastai/nbdev_template) that fastai provides.\n",
    "\n",
    "To start your project, select \"Use this template\":\n",
    "\n",
    "![Use this template](https://i.imgur.com/TNtaJvQ.jpg)"
   ]
  },
  {
   "cell_type": "markdown",
   "metadata": {},
   "source": [
    "From there you will be asked for:\n",
    "1. A Repository name - for this tutorial we'll call it \"nbdev_colab_tutorial\"\n",
    "2. Whether the repository will be public or private - for this tutorial use Public\n",
    "3. After filling out the above fields select \"Create repository from template\"\n",
    "\n",
    "![](https://i.imgur.com/uhlWiPe.jpg)"
   ]
  },
  {
   "cell_type": "markdown",
   "metadata": {},
   "source": [
    "After a few seconds your repository should now be live. "
   ]
  },
  {
   "cell_type": "markdown",
   "metadata": {},
   "source": [
    "The last step we need to complete for initializing our repository is filling out the `settings.ini` (You may have received an email notice stating that a run failed, this is why). Open it in your repository:\n",
    "\n",
    "![](https://i.imgur.com/I18OJmk.jpg)"
   ]
  },
  {
   "cell_type": "markdown",
   "metadata": {},
   "source": [
    "We need to edit this file with everything that nbdev needs to be properly configured\n",
    "> Read more on settings.ini [here](https://nbdev.fast.ai/tutorial.html#Edit-settings.ini)\n",
    "\n",
    "You'll see these commented out lines in `settings.ini`. Uncomment them, and set each value as needed.\n",
    "\n",
    "```\n",
    "# lib_name = your_project_name\n",
    "# user = your_github_username\n",
    "# description = A description of your project\n",
    "# keywords = some keywords\n",
    "# author = Your Name\n",
    "# author_email = email@example.com\n",
    "# copyright = Your Name or Company Name\n",
    "```"
   ]
  },
  {
   "cell_type": "markdown",
   "metadata": {},
   "source": [
    "\n",
    "\n",
    "Afterwards hit the \"Commit changes\" button at the bottom of the editor:\n",
    "\n",
    "![](https://i.imgur.com/qVqcIiH.jpg)"
   ]
  },
  {
   "cell_type": "markdown",
   "metadata": {},
   "source": [
    "Now we can get started over in Colab!"
   ]
  },
  {
   "cell_type": "markdown",
   "metadata": {},
   "source": [
    "## Setting up your Google Drive and Git Configuration\n",
    "\n",
    "For this next step we are going to take advantage of Colab's [Scratchpad](https://colab.research.google.com/notebooks/empty.ipynb) notebook, as we're going to do a few housekeeping steps that don't need to be logged in a notebook somewhere. \n",
    "\n",
    "First you should mount your Google Drive in your instance by running the following cell and following the prompt:"
   ]
  },
  {
   "cell_type": "code",
   "execution_count": null,
   "metadata": {},
   "outputs": [
    {
     "name": "stdout",
     "output_type": "stream",
     "text": [
      "Mounted at /content/drive\n"
     ]
    }
   ],
   "source": [
    "from google.colab import drive\n",
    "drive.mount('/content/drive')"
   ]
  },
  {
   "cell_type": "markdown",
   "metadata": {},
   "source": [
    "Your drive is now located at `/content/drive/MyDrive`"
   ]
  },
  {
   "cell_type": "markdown",
   "metadata": {},
   "source": [
    "Next we need to change our working directory into our Google Drive, as this is where our repository will get saved to and where we can setup git"
   ]
  },
  {
   "cell_type": "code",
   "execution_count": null,
   "metadata": {},
   "outputs": [
    {
     "name": "stdout",
     "output_type": "stream",
     "text": [
      "/content/drive/MyDrive\n"
     ]
    }
   ],
   "source": [
    "%cd drive/MyDrive"
   ]
  },
  {
   "cell_type": "markdown",
   "metadata": {},
   "source": [
    "Now we can clone our repository into our Drive:"
   ]
  },
  {
   "cell_type": "code",
   "execution_count": null,
   "metadata": {},
   "outputs": [
    {
     "name": "stdout",
     "output_type": "stream",
     "text": [
      "Cloning into 'nbdev_colab_tutorial'...\n",
      "remote: Enumerating objects: 25, done.\u001b[K\n",
      "remote: Counting objects: 100% (25/25), done.\u001b[K\n",
      "remote: Compressing objects: 100% (22/22), done.\u001b[K\n",
      "remote: Total 25 (delta 3), reused 13 (delta 0), pack-reused 0\u001b[K\n",
      "Unpacking objects: 100% (25/25), done.\n"
     ]
    }
   ],
   "source": [
    "!git clone https://github.com/{insert_username_here}/nbdev_colab_tutorial"
   ]
  },
  {
   "cell_type": "markdown",
   "metadata": {},
   "source": [
    "We need to change directories again into our project:"
   ]
  },
  {
   "cell_type": "code",
   "execution_count": null,
   "metadata": {},
   "outputs": [
    {
     "name": "stdout",
     "output_type": "stream",
     "text": [
      "/content/drive/MyDrive/nbdev_colab_tutorial\n"
     ]
    }
   ],
   "source": [
    "%cd nbdev_colab_tutorial"
   ]
  },
  {
   "cell_type": "markdown",
   "metadata": {},
   "source": [
    "To let git know who we are, we need to run two bash commands:\n",
    "\n",
    "* `git config user.name`\n",
    "* `git config user.email`\n",
    "\n",
    "Let's do so:"
   ]
  },
  {
   "cell_type": "code",
   "execution_count": null,
   "metadata": {},
   "outputs": [],
   "source": [
    "!git config user.name \"Your name\"\n",
    "!git config user.email \"email@example.com\""
   ]
  },
  {
   "cell_type": "markdown",
   "metadata": {},
   "source": [
    "Lastly we need to export the template `00_core` notebook so that we have a module:"
   ]
  },
  {
   "cell_type": "code",
   "execution_count": null,
   "metadata": {},
   "outputs": [
    {
     "name": "stdout",
     "output_type": "stream",
     "text": [
      "Converted 00_core.ipynb.\n",
      "Converted index.ipynb.\n"
     ]
    }
   ],
   "source": [
    "!nbdev_build_lib"
   ]
  },
  {
   "cell_type": "markdown",
   "metadata": {},
   "source": [
    "The project has now been completely primed and is ready to be worked on"
   ]
  },
  {
   "cell_type": "markdown",
   "metadata": {},
   "source": [
    "## Writing a New Module and the Setup Cell for Each Notebook"
   ]
  },
  {
   "cell_type": "markdown",
   "metadata": {},
   "source": [
    "\n",
    "\n",
    "To add in a new module or notebook to your library you should create a new Colab notebook through your Google Drive in whichever folder your notebooks are stored in. "
   ]
  },
  {
   "cell_type": "markdown",
   "metadata": {},
   "source": [
    "From there all that is needed is for you to run a small cell that should be at the top of each notebook, setting up your Colab environment and performs the following setup steps:\n",
    "\n",
    "1. Mount Google Drive\n",
    "2. Change to the library directory\n",
    "3. Installs the library\n",
    "4. Installs nbdev"
   ]
  },
  {
   "cell_type": "code",
   "execution_count": null,
   "metadata": {},
   "outputs": [],
   "source": [
    "from google.colab import drive\n",
    "drive.mount('/content/drive')\n",
    "%cd 'drive/MyDrive/{path_to_repository}/{library_name}'\n",
    "!pip3 install -e . -q\n",
    "!pip3 install nbdev -q"
   ]
  },
  {
   "cell_type": "markdown",
   "metadata": {},
   "source": [
    "From there you can build your library following the [tutorial](https://nbdev.fast.ai/tutorial.html). Any changes you save in your notebook are reflected in your Google Drive, so you can always call `nbdev_build_lib`, `_clean_nbs`, etc and have it function as expected."
   ]
  },
  {
   "cell_type": "markdown",
   "metadata": {},
   "source": [
    "## Pushing to Git"
   ]
  },
  {
   "cell_type": "markdown",
   "metadata": {},
   "source": [
    "The last step is pushing our changes to GitHub. We can check in our files to our GitHub repo with the following commands:"
   ]
  },
  {
   "cell_type": "code",
   "execution_count": null,
   "metadata": {},
   "outputs": [],
   "source": [
    "!git add *\n",
    "!git commit -m \"Test commit message\"\n",
    "!git push origin master"
   ]
  },
  {
   "cell_type": "markdown",
   "metadata": {},
   "source": [
    "> Note: If you have Colab Pro, use the terminal to push to git with the same bash commands"
   ]
  },
  {
   "cell_type": "markdown",
   "metadata": {},
   "source": [
    "And that's it! You now know how to run `nbdev` entirely out of your Google Drive and Google Colaboratory."
   ]
  },
  {
   "cell_type": "code",
   "execution_count": null,
   "metadata": {},
   "outputs": [],
   "source": []
  }
 ],
 "metadata": {
  "kernelspec": {
   "display_name": "Python 3",
   "language": "python",
   "name": "python3"
  }
 },
 "nbformat": 4,
 "nbformat_minor": 1
}
