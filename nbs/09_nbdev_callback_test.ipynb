{
 "cells": [
  {
   "cell_type": "markdown",
   "metadata": {},
   "source": [
    "# nbdev callbacks\n",
    "\n",
    "> The build docs and test nbs functions are extensible, with callbacks."
   ]
  },
  {
   "cell_type": "markdown",
   "metadata": {},
   "source": [
    "The goal of nbdev callbacks: Make it possible for you to customise the testing and build doc processes to suit the needs of your projects, without needing changes to nbdev.\n",
    "\n",
    "If you'd like to use callbacks, create `nbdev_callbacks.py` in your project. Feel free to copy [nbdev_callbacks.py](https://github.com/fastai/nbdev/blob/master/nbdev_callbacks.py) to get started.\n",
    "\n",
    "Before we get stuck into how you can use callbacks, we need to explain how *your* `nbdev_callbacks.py` gets imported."
   ]
  },
  {
   "cell_type": "code",
   "execution_count": null,
   "metadata": {},
   "outputs": [
    {
     "data": {
      "text/markdown": [
       "<h4 id=\"call_cb\" class=\"doc_header\"><code>call_cb</code><a href=\"https://github.com/fastai/nbdev/tree/master/nbdev/imports.py#L146\" class=\"source_link\" style=\"float:right\">[source]</a></h4>\n",
       "\n",
       "> <code>call_cb</code>(**`cb_name`**, **\\*`args`**)\n",
       "\n",
       "Calls `cb_name` from the `nbdev_callbacks` module but won't fail if it doesn't exist"
      ],
      "text/plain": [
       "<IPython.core.display.Markdown object>"
      ]
     },
     "metadata": {},
     "output_type": "display_data"
    }
   ],
   "source": [
    "from nbdev import *\n",
    "from nbdev.imports import *\n",
    "show_doc(call_cb)"
   ]
  },
  {
   "cell_type": "markdown",
   "metadata": {},
   "source": [
    "After making a temporary modification to `sys.path`, this function loads the `nbdev_callbacks` module via a regular python `import`.\n",
    "\n",
    "To be sure this import reads the `nbdev_callbacks.py` file from your project, `call_cb` will make the parameter `callbacks_path` (see `settings.ini`) the only entry in `sys.path` (defaulting to the project root).\n",
    "\n",
    "`nbdev_callbacks.py` does not have to exist and doesn't have to contain definitions for all callback handlers."
   ]
  },
  {
   "cell_type": "code",
   "execution_count": null,
   "metadata": {},
   "outputs": [],
   "source": [
    "test_eq(call_cb('begin_test_nb', 'arg1', 2, 3), 'arg1')\n",
    "test_eq(call_cb('after_test_nb', 'file.name'), None)\n",
    "# If we pass an invalid callback name, we get the 1st arg back ...\n",
    "test_eq(call_cb('bad_cb_name', 'arg1'), 'arg1')\n",
    "test_eq(call_cb('bad_cb_name', False), False)\n",
    "test_eq(call_cb('bad_cb_name', 'arg1', 2, 3), 'arg1')\n",
    "# ... or None if we pass no args. Either way we see no errors\n",
    "test_eq(call_cb('bad_cb_name'), None)\n",
    "\n",
    "try:\n",
    "    call_cb('begin_test_nb', 'arg1')\n",
    "    assert False, 'An error should be raised as we passed the wrong number of arguments to the cb'\n",
    "except TypeError: pass\n",
    "\n",
    "import nbdev_callbacks\n",
    "nbdev_callbacks.raise_err = lambda: 1/0\n",
    "try:\n",
    "    call_cb('raise_err')\n",
    "    assert False, 'An error should be raised because the cb handler raised an error'\n",
    "except ZeroDivisionError: pass"
   ]
  },
  {
   "cell_type": "markdown",
   "metadata": {},
   "source": [
    "If you ever need to import the `nbdev_callbacks` in your code, please make a call to `call_cb` first."
   ]
  },
  {
   "cell_type": "code",
   "execution_count": null,
   "metadata": {},
   "outputs": [],
   "source": [
    "call_cb('This makes sure nbdev_callbacks is loaded from the right place')\n",
    "import nbdev_callbacks"
   ]
  },
  {
   "cell_type": "code",
   "execution_count": null,
   "metadata": {},
   "outputs": [
    {
     "data": {
      "text/markdown": [
       "<h4 id=\"nbdev_callbacks.begin_test_nb\" class=\"doc_header\"><code>nbdev_callbacks.begin_test_nb</code><a href=\"nbdev_callbacks.py#L3\" class=\"source_link\" style=\"float:right\">[source]</a></h4>\n",
       "\n",
       "> <code>nbdev_callbacks.begin_test_nb</code>(**`nb`**, **`file_name`**, **`flags`**)\n",
       "\n",
       "Called before testing a notebook. Return the notebook to be tested"
      ],
      "text/plain": [
       "<IPython.core.display.Markdown object>"
      ]
     },
     "metadata": {},
     "output_type": "display_data"
    }
   ],
   "source": [
    "%nbdev_show_doc nbdev_callbacks.begin_test_nb"
   ]
  },
  {
   "cell_type": "markdown",
   "metadata": {},
   "source": [
    "It is expected that you'll want to modify and return `nb` but your callback handler *could* create and return a new notebook.\n",
    "\n",
    "`file_name` can't be modified as it has already been used to create `nb`.\n",
    "\n",
    "`test_nb` calls `begin_test_nb` before checking flags so you *could* use callbacks to modify flags before testing starts."
   ]
  },
  {
   "cell_type": "code",
   "execution_count": null,
   "metadata": {},
   "outputs": [
    {
     "data": {
      "text/markdown": [
       "<h4 id=\"nbdev_callbacks.after_test_nb\" class=\"doc_header\"><code>nbdev_callbacks.after_test_nb</code><a href=\"nbdev_callbacks.py#L7\" class=\"source_link\" style=\"float:right\">[source]</a></h4>\n",
       "\n",
       "> <code>nbdev_callbacks.after_test_nb</code>(**`file_name`**)\n",
       "\n",
       "Called after testing a notebook"
      ],
      "text/plain": [
       "<IPython.core.display.Markdown object>"
      ]
     },
     "metadata": {},
     "output_type": "display_data"
    }
   ],
   "source": [
    "%nbdev_show_doc nbdev_callbacks.after_test_nb"
   ]
  },
  {
   "cell_type": "code",
   "execution_count": null,
   "metadata": {},
   "outputs": [
    {
     "data": {
      "text/markdown": [
       "<h4 id=\"nbdev_callbacks.begin_doc_nb\" class=\"doc_header\"><code>nbdev_callbacks.begin_doc_nb</code><a href=\"nbdev_callbacks.py#L11\" class=\"source_link\" style=\"float:right\">[source]</a></h4>\n",
       "\n",
       "> <code>nbdev_callbacks.begin_doc_nb</code>(**`nb`**, **`file_name`**, **`output_type`**)\n",
       "\n",
       "Called before converting a notebook to documentation. Return the notebook to be converted"
      ],
      "text/plain": [
       "<IPython.core.display.Markdown object>"
      ]
     },
     "metadata": {},
     "output_type": "display_data"
    }
   ],
   "source": [
    "%nbdev_show_doc nbdev_callbacks.begin_doc_nb"
   ]
  },
  {
   "cell_type": "markdown",
   "metadata": {},
   "source": [
    "It is expected that you'll want to modify and return `nb` but your callback handler *could* create and return a new notebook.\n",
    "\n",
    "`file_name` can't be modified as it has already been used to create `nb`.\n",
    "\n",
    "- When building HTML docs, `convert_nb` will set `output_type='html'`\n",
    "- When building markdown docs, `convert_md` will set `output_type='md'`"
   ]
  },
  {
   "cell_type": "code",
   "execution_count": null,
   "metadata": {},
   "outputs": [
    {
     "data": {
      "text/markdown": [
       "<h4 id=\"nbdev_callbacks.after_doc_nb_preprocess\" class=\"doc_header\"><code>nbdev_callbacks.after_doc_nb_preprocess</code><a href=\"nbdev_callbacks.py#L15\" class=\"source_link\" style=\"float:right\">[source]</a></h4>\n",
       "\n",
       "> <code>nbdev_callbacks.after_doc_nb_preprocess</code>(**`nb`**, **`file_name`**, **`output_type`**)\n",
       "\n",
       "Called after pre-processing a notebook, before converting to documentation. Return the notebook to be converted"
      ],
      "text/plain": [
       "<IPython.core.display.Markdown object>"
      ]
     },
     "metadata": {},
     "output_type": "display_data"
    }
   ],
   "source": [
    "%nbdev_show_doc nbdev_callbacks.after_doc_nb_preprocess"
   ]
  },
  {
   "cell_type": "markdown",
   "metadata": {},
   "source": [
    "This callback handler gets the same arguments as `begin_doc_nb` but `nb` will have been modifed by processors that do things like:\n",
    "- add `show_doc` calls for for exported functions and classes\n",
    "- remove empty cells\n",
    "- copy images and modify image paths\n",
    "- add collapse metadata etc"
   ]
  },
  {
   "cell_type": "code",
   "execution_count": null,
   "metadata": {},
   "outputs": [
    {
     "data": {
      "text/markdown": [
       "<h4 id=\"nbdev_callbacks.after_doc_nb\" class=\"doc_header\"><code>nbdev_callbacks.after_doc_nb</code><a href=\"nbdev_callbacks.py#L19\" class=\"source_link\" style=\"float:right\">[source]</a></h4>\n",
       "\n",
       "> <code>nbdev_callbacks.after_doc_nb</code>(**`file_name`**, **`output_type`**)\n",
       "\n",
       "Called after converting a notebook to documentation"
      ],
      "text/plain": [
       "<IPython.core.display.Markdown object>"
      ]
     },
     "metadata": {},
     "output_type": "display_data"
    }
   ],
   "source": [
    "%nbdev_show_doc nbdev_callbacks.after_doc_nb"
   ]
  },
  {
   "cell_type": "markdown",
   "metadata": {},
   "source": [
    "# What kind of things can you do with these callbacks?\n",
    "\n",
    "## Move img tags to the start of a new line\n",
    "\n",
    "To display images side-by-side we could use some HTML like:\n",
    "```\n",
    "<figure>\n",
    "    <div style=\"display:flex\">\n",
    "        <div style=\"flex:1\">\n",
    "            <figure>\n",
    "                <img src=\"images/post_004/02.jpeg\">\n",
    "                <figcaption><center>Temp caption 1</center></figcaption>\n",
    "            </figure>\n",
    "        </div>\n",
    "        <div style=\"flex:1\">\n",
    "            <figure>\n",
    "                <img src=\"images/post_004/03.jpeg\">\n",
    "                <figcaption><center>Temp caption 2</center></figcaption>\n",
    "            </figure>\n",
    "        </div>\n",
    "    </div>\n",
    "    <figcaption><center>Main caption</center></figcaption>\n",
    "</figure>\n",
    "```\n",
    "\n",
    "Then you find that nbdev will only copy images and modify image paths for zero indented img tags.\n",
    "\n",
    "You could modify your HTML ... or you could move image tags with a callback:\n",
    "```python\n",
    "def begin_doc_nb(nb,file_name,output_type):\n",
    "    \"Called before converting a notebook to documentation. Return the notebook to be converted\"\n",
    "    for cell in nb['cells']:\n",
    "        if cell['cell_type']=='markdown' and not cell['source'].startswith('`'):\n",
    "            cell['source']=cell['source'].replace(\"<img \", \"\\n<img \")\n",
    "    return nb\n",
    "```"
   ]
  },
  {
   "cell_type": "markdown",
   "metadata": {},
   "source": [
    "## Count the number of tests cells\n",
    "\n",
    "To output the number of tests that have been run, you could count each cell that is not exported to your library:\n",
    "\n",
    "```python\n",
    "from nbdev.export import find_default_export,is_export\n",
    "\n",
    "def begin_test_nb(nb,file_name,flags):\n",
    "    test_count=0\n",
    "    default_export=find_default_export(nb['cells'])\n",
    "    exports=[is_export(c, default_export) for c in nb['cells']]\n",
    "    cells=[(i,c,e) for i,(c,e) in enumerate(zip(nb['cells'],exports)) if c['cell_type']=='code']\n",
    "    for i,c,e in cells:\n",
    "        if not e: test_count+=1\n",
    "    print(file_name,'has',test_count,'test cells')\n",
    "    return nb\n",
    "```\n",
    "\n",
    "The above is just one interpretation of \"the number of tests\". We could easily write callback handlers to count tests in different ways, like:\n",
    "- the number of `assert` or `test_eq` calls in the notebook\n",
    "- the number of cells that contain an `assert` or `test_eq` call"
   ]
  },
  {
   "cell_type": "markdown",
   "metadata": {},
   "source": [
    "# Reserved callback handler names\n",
    "\n",
    "| Callback handler |                | Call from          | Comments                                         |\n",
    "|------------------|----------------|--------------------|--------------------------------------------------|\n",
    "| begin_test_nbs   | after_test_nbs | cli#nbdev_test_nbs | Might be useful if writing test metrics to log files etc |\n",
    "| begin_doc_nbs  | after_doc_nbs  | cli#nbdev_build_docs |                                                  |"
   ]
  }
 ],
 "metadata": {
  "kernelspec": {
   "display_name": "Python 3",
   "language": "python",
   "name": "python3"
  }
 },
 "nbformat": 4,
 "nbformat_minor": 4
}
